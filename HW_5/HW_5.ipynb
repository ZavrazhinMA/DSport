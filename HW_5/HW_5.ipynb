{
 "cells": [
  {
   "cell_type": "code",
   "execution_count": 1,
   "id": "b70c3089",
   "metadata": {
    "ExecuteTime": {
     "end_time": "2021-10-19T13:29:08.685491Z",
     "start_time": "2021-10-19T13:29:06.045481Z"
    }
   },
   "outputs": [],
   "source": [
    "import numpy as np\n",
    "import pandas as pd\n",
    "import warnings\n",
    "import matplotlib.pyplot as plt\n",
    "import seaborn as sns\n",
    "warnings.filterwarnings('ignore')\n",
    "%matplotlib inline\n",
    "%config InlineBackend.figure_format = 'svg'\n",
    "plt.style.use('ggplot')\n",
    "plt.rcParams[\"font.family\"] = \"Times New Roman\""
   ]
  },
  {
   "cell_type": "code",
   "execution_count": 2,
   "id": "11302c9e",
   "metadata": {
    "ExecuteTime": {
     "end_time": "2021-10-19T13:29:10.198523Z",
     "start_time": "2021-10-19T13:29:08.688476Z"
    }
   },
   "outputs": [],
   "source": [
    "from sklearn.model_selection import KFold, StratifiedKFold, train_test_split, cross_val_score\n",
    "from sklearn.metrics import roc_auc_score, roc_curve, auc\n",
    "from catboost.utils import get_roc_curve\n",
    "import xgboost as xgb\n",
    "from typing import List, Tuple\n",
    "import datetime\n",
    "from datetime import datetime, date\n",
    "from tqdm import tqdm_notebook"
   ]
  },
  {
   "cell_type": "markdown",
   "id": "338b6cde",
   "metadata": {},
   "source": [
    "***********************"
   ]
  },
  {
   "cell_type": "code",
   "execution_count": 3,
   "id": "66e1c941",
   "metadata": {
    "ExecuteTime": {
     "end_time": "2021-10-19T13:29:10.214516Z",
     "start_time": "2021-10-19T13:29:10.200503Z"
    }
   },
   "outputs": [],
   "source": [
    "def reduce_mem_usage(df):\n",
    "    \"\"\" iterate through all the columns of a dataframe and modify the data type\n",
    "        to reduce memory usage.        \n",
    "    \"\"\"\n",
    "    start_mem = df.memory_usage().sum() / 1024**2\n",
    "    print('Memory usage of dataframe is {:.2f} MB'.format(start_mem))\n",
    "    for col in df.columns:\n",
    "        col_type = df[col].dtype\n",
    "        if col_type != object:\n",
    "            c_min = df[col].min()\n",
    "            c_max = df[col].max()\n",
    "            if str(col_type)[:3] == 'int':\n",
    "                if c_min > np.iinfo(np.int8).min and c_max < np.iinfo(np.int8).max:\n",
    "                    df[col] = df[col].astype(np.int8)\n",
    "                elif c_min > np.iinfo(np.int16).min and c_max < np.iinfo(np.int16).max:\n",
    "                    df[col] = df[col].astype(np.int16)\n",
    "                elif c_min > np.iinfo(np.int32).min and c_max < np.iinfo(np.int32).max:\n",
    "                    df[col] = df[col].astype(np.int32)\n",
    "                elif c_min > np.iinfo(np.int64).min and c_max < np.iinfo(np.int64).max:\n",
    "                    df[col] = df[col].astype(np.int64)\n",
    "            else:\n",
    "                if c_min > np.finfo(np.float32).min and c_max < np.finfo(np.float32).max:\n",
    "                    df[col] = df[col].astype(np.float32)\n",
    "                else:\n",
    "                    df[col] = df[col].astype(np.float64)\n",
    "        else:\n",
    "            df[col] = df[col].astype('category')\n",
    "    end_mem = df.memory_usage().sum() / 1024**2\n",
    "    print('Memory usage after optimization is: {:.2f} MB'.format(end_mem))\n",
    "    print('Decreased by {:.1f}%'.format(\n",
    "        100 * (start_mem - end_mem) / start_mem))\n",
    "\n",
    "    return df"
   ]
  },
  {
   "cell_type": "code",
   "execution_count": 4,
   "id": "d2bfe2ac",
   "metadata": {
    "ExecuteTime": {
     "end_time": "2021-10-19T13:29:53.148507Z",
     "start_time": "2021-10-19T13:29:10.215503Z"
    }
   },
   "outputs": [
    {
     "name": "stdout",
     "output_type": "stream",
     "text": [
      "Memory usage of dataframe is 541.08 MB\n",
      "Memory usage after optimization is: 262.48 MB\n",
      "Decreased by 51.5%\n"
     ]
    }
   ],
   "source": [
    "train = reduce_mem_usage(pd.read_csv('assignment_2_train.csv'))"
   ]
  },
  {
   "cell_type": "code",
   "execution_count": 5,
   "id": "c3c3b07a",
   "metadata": {
    "ExecuteTime": {
     "end_time": "2021-10-19T13:29:53.211503Z",
     "start_time": "2021-10-19T13:29:53.151507Z"
    }
   },
   "outputs": [
    {
     "data": {
      "text/html": [
       "<div>\n",
       "<style scoped>\n",
       "    .dataframe tbody tr th:only-of-type {\n",
       "        vertical-align: middle;\n",
       "    }\n",
       "\n",
       "    .dataframe tbody tr th {\n",
       "        vertical-align: top;\n",
       "    }\n",
       "\n",
       "    .dataframe thead th {\n",
       "        text-align: right;\n",
       "    }\n",
       "</style>\n",
       "<table border=\"1\" class=\"dataframe\">\n",
       "  <thead>\n",
       "    <tr style=\"text-align: right;\">\n",
       "      <th></th>\n",
       "      <th>TransactionID</th>\n",
       "      <th>isFraud</th>\n",
       "      <th>TransactionDT</th>\n",
       "      <th>TransactionAmt</th>\n",
       "      <th>ProductCD</th>\n",
       "      <th>card1</th>\n",
       "      <th>card2</th>\n",
       "      <th>card3</th>\n",
       "      <th>card4</th>\n",
       "      <th>card5</th>\n",
       "      <th>...</th>\n",
       "      <th>V330</th>\n",
       "      <th>V331</th>\n",
       "      <th>V332</th>\n",
       "      <th>V333</th>\n",
       "      <th>V334</th>\n",
       "      <th>V335</th>\n",
       "      <th>V336</th>\n",
       "      <th>V337</th>\n",
       "      <th>V338</th>\n",
       "      <th>V339</th>\n",
       "    </tr>\n",
       "  </thead>\n",
       "  <tbody>\n",
       "    <tr>\n",
       "      <th>0</th>\n",
       "      <td>2987000</td>\n",
       "      <td>0</td>\n",
       "      <td>86400</td>\n",
       "      <td>68.5</td>\n",
       "      <td>W</td>\n",
       "      <td>13926</td>\n",
       "      <td>NaN</td>\n",
       "      <td>150.0</td>\n",
       "      <td>discover</td>\n",
       "      <td>142.0</td>\n",
       "      <td>...</td>\n",
       "      <td>NaN</td>\n",
       "      <td>NaN</td>\n",
       "      <td>NaN</td>\n",
       "      <td>NaN</td>\n",
       "      <td>NaN</td>\n",
       "      <td>NaN</td>\n",
       "      <td>NaN</td>\n",
       "      <td>NaN</td>\n",
       "      <td>NaN</td>\n",
       "      <td>NaN</td>\n",
       "    </tr>\n",
       "    <tr>\n",
       "      <th>1</th>\n",
       "      <td>2987001</td>\n",
       "      <td>0</td>\n",
       "      <td>86401</td>\n",
       "      <td>29.0</td>\n",
       "      <td>W</td>\n",
       "      <td>2755</td>\n",
       "      <td>404.0</td>\n",
       "      <td>150.0</td>\n",
       "      <td>mastercard</td>\n",
       "      <td>102.0</td>\n",
       "      <td>...</td>\n",
       "      <td>NaN</td>\n",
       "      <td>NaN</td>\n",
       "      <td>NaN</td>\n",
       "      <td>NaN</td>\n",
       "      <td>NaN</td>\n",
       "      <td>NaN</td>\n",
       "      <td>NaN</td>\n",
       "      <td>NaN</td>\n",
       "      <td>NaN</td>\n",
       "      <td>NaN</td>\n",
       "    </tr>\n",
       "  </tbody>\n",
       "</table>\n",
       "<p>2 rows × 394 columns</p>\n",
       "</div>"
      ],
      "text/plain": [
       "   TransactionID  isFraud  TransactionDT  TransactionAmt ProductCD  card1  \\\n",
       "0        2987000        0          86400            68.5         W  13926   \n",
       "1        2987001        0          86401            29.0         W   2755   \n",
       "\n",
       "   card2  card3       card4  card5  ... V330  V331  V332  V333  V334 V335  \\\n",
       "0    NaN  150.0    discover  142.0  ...  NaN   NaN   NaN   NaN   NaN  NaN   \n",
       "1  404.0  150.0  mastercard  102.0  ...  NaN   NaN   NaN   NaN   NaN  NaN   \n",
       "\n",
       "  V336  V337  V338  V339  \n",
       "0  NaN   NaN   NaN   NaN  \n",
       "1  NaN   NaN   NaN   NaN  \n",
       "\n",
       "[2 rows x 394 columns]"
      ]
     },
     "execution_count": 5,
     "metadata": {},
     "output_type": "execute_result"
    }
   ],
   "source": [
    "train.head(2)"
   ]
  },
  {
   "cell_type": "code",
   "execution_count": 6,
   "id": "bd661822",
   "metadata": {
    "ExecuteTime": {
     "end_time": "2021-10-19T13:29:53.241505Z",
     "start_time": "2021-10-19T13:29:53.213505Z"
    }
   },
   "outputs": [],
   "source": [
    "train.set_index('TransactionID', inplace=True)"
   ]
  },
  {
   "cell_type": "code",
   "execution_count": 7,
   "id": "93eb5f8f",
   "metadata": {
    "ExecuteTime": {
     "end_time": "2021-10-19T13:29:53.961504Z",
     "start_time": "2021-10-19T13:29:53.245505Z"
    },
    "scrolled": true
   },
   "outputs": [
    {
     "name": "stdout",
     "output_type": "stream",
     "text": [
      "X_train:  144000 rows, 392 cols\n",
      "X_valid:  36000 rows, 392 cols\n"
     ]
    }
   ],
   "source": [
    "X_train, X_valid, y_train, y_valid = train_test_split(train.drop(columns='isFraud'),\n",
    "                                                      train['isFraud'],\n",
    "                                                      shuffle=False,\n",
    "                                                      train_size=0.8\n",
    "                                                     )\n",
    "\n",
    "print(\"X_train:  {} rows, {} cols\".format(*X_train.shape))\n",
    "print(\"X_valid:  {} rows, {} cols\".format(*X_valid.shape))"
   ]
  },
  {
   "cell_type": "markdown",
   "id": "ff225313",
   "metadata": {},
   "source": [
    "*********************"
   ]
  },
  {
   "cell_type": "markdown",
   "id": "185bf3a6",
   "metadata": {},
   "source": [
    "**Задание 0:** выбрать любую модель машнного обучения и зафиксировать любой тип валидации. Обучить базовую модель и зафиксировать базовое качество модели. В каждом следующем задании нужно будет обучить выбранную модель и оценивать ее качество на зафиксированной схеме валидации. После каждого задания, требуется сделать вывод о достигаемом качестве модели, по сравнению с качестом из предыдущего шага."
   ]
  },
  {
   "cell_type": "code",
   "execution_count": 8,
   "id": "8bce4413",
   "metadata": {
    "ExecuteTime": {
     "end_time": "2021-10-19T13:29:55.400503Z",
     "start_time": "2021-10-19T13:29:53.966503Z"
    }
   },
   "outputs": [],
   "source": [
    "train_len = len(X_train)\n",
    "dataset = pd.concat(objs=[X_train, X_valid], axis=0)\n",
    "dataset = pd.get_dummies(dataset)\n",
    "dum_train = dataset[:train_len].copy() # dummies\n",
    "dum_valid = dataset[train_len:].copy() # dummies"
   ]
  },
  {
   "cell_type": "code",
   "execution_count": 9,
   "id": "f54abc91",
   "metadata": {
    "ExecuteTime": {
     "end_time": "2021-10-19T13:29:57.197503Z",
     "start_time": "2021-10-19T13:29:55.402504Z"
    }
   },
   "outputs": [],
   "source": [
    "train_xgb = xgb.DMatrix(data=dum_train,\n",
    "                            label=y_train\n",
    "                            )\n",
    "\n",
    "valid_xgb = xgb.DMatrix(data=dum_valid,\n",
    "                            label=y_valid,\n",
    "                            )"
   ]
  },
  {
   "cell_type": "code",
   "execution_count": 10,
   "id": "b4ffbfea",
   "metadata": {
    "ExecuteTime": {
     "end_time": "2021-10-19T13:29:57.212504Z",
     "start_time": "2021-10-19T13:29:57.199504Z"
    }
   },
   "outputs": [],
   "source": [
    "params = {\n",
    "    \"booster\": \"gbtree\",\n",
    "    \"objective\": \"binary:logistic\",\n",
    "    \"eval_metric\": \"auc\",\n",
    "    \"learning_rate\": 0.05,\n",
    "    \"reg_lambda\": 100,\n",
    "    \"max_depth\": 4,\n",
    "    \"gamma\": 10,\n",
    "    \"nthread\": -1,\n",
    "    \"seed\": 13\n",
    "}"
   ]
  },
  {
   "cell_type": "code",
   "execution_count": 11,
   "id": "e763ccf3",
   "metadata": {
    "ExecuteTime": {
     "end_time": "2021-10-19T13:31:39.806522Z",
     "start_time": "2021-10-19T13:29:57.215503Z"
    }
   },
   "outputs": [
    {
     "name": "stdout",
     "output_type": "stream",
     "text": [
      "[0]\ttrain-auc:0.61546\tvalid-auc:0.62643\n",
      "[50]\ttrain-auc:0.85591\tvalid-auc:0.84138\n",
      "[100]\ttrain-auc:0.88780\tvalid-auc:0.86141\n",
      "[150]\ttrain-auc:0.90207\tvalid-auc:0.87917\n",
      "[200]\ttrain-auc:0.90865\tvalid-auc:0.88687\n",
      "[250]\ttrain-auc:0.91292\tvalid-auc:0.88940\n",
      "[300]\ttrain-auc:0.91581\tvalid-auc:0.89119\n",
      "[350]\ttrain-auc:0.91804\tvalid-auc:0.89186\n",
      "[376]\ttrain-auc:0.91807\tvalid-auc:0.89181\n"
     ]
    }
   ],
   "source": [
    "model_xgb_1 = xgb.train(\n",
    "    params=params,\n",
    "    dtrain=train_xgb,\n",
    "    num_boost_round=500,\n",
    "    early_stopping_rounds=50,\n",
    "    evals=[(train_xgb, \"train\"), (valid_xgb, \"valid\")],\n",
    "    verbose_eval=50,\n",
    "    maximize=True,\n",
    ")"
   ]
  },
  {
   "cell_type": "markdown",
   "id": "8a935952",
   "metadata": {},
   "source": [
    "*********************"
   ]
  },
  {
   "cell_type": "markdown",
   "id": "95dca01b",
   "metadata": {},
   "source": [
    "**Задание 1:** признак TransactionDT - это смещение в секундах относительно базовой даты. Базовая дата - 2017-12-01, преобразовать признак TransactionDT в datetime, прибавив к базовой дате исходное значение признака. Из полученного признака выделить год, месяц, день недели, час, день."
   ]
  },
  {
   "cell_type": "code",
   "execution_count": 12,
   "id": "b830d1c6",
   "metadata": {
    "ExecuteTime": {
     "end_time": "2021-10-19T13:31:39.821514Z",
     "start_time": "2021-10-19T13:31:39.808503Z"
    }
   },
   "outputs": [
    {
     "name": "stdout",
     "output_type": "stream",
     "text": [
      "1512075600\n"
     ]
    }
   ],
   "source": [
    "start_date = int(datetime(2017, 12, 1).timestamp())\n",
    "print(start_date)"
   ]
  },
  {
   "cell_type": "code",
   "execution_count": 13,
   "id": "61b5fe46",
   "metadata": {
    "ExecuteTime": {
     "end_time": "2021-10-19T13:31:39.836524Z",
     "start_time": "2021-10-19T13:31:39.823506Z"
    }
   },
   "outputs": [],
   "source": [
    "def get_date_item(df, date):\n",
    "    \n",
    "    df[date] = pd.to_datetime(df[date] + start_date)\n",
    "    df['Year'] = df[date].dt.year\n",
    "    df['Month'] = df[date].dt.month\n",
    "    df['Day_of_week'] = df[date].dt.weekday\n",
    "    df['Hour'] = df[date].dt.hour\n",
    "    df['Day'] = df[date].dt.day\n",
    "    df.drop([date], axis=1, inplace=True)\n",
    "    \n",
    "    return df"
   ]
  },
  {
   "cell_type": "code",
   "execution_count": 14,
   "id": "57f4c1e8",
   "metadata": {
    "ExecuteTime": {
     "end_time": "2021-10-19T13:31:40.173524Z",
     "start_time": "2021-10-19T13:31:39.838503Z"
    }
   },
   "outputs": [],
   "source": [
    "df_train = get_date_item(dum_train.copy(), \"TransactionDT\")\n",
    "df_valid = get_date_item(dum_valid.copy(), \"TransactionDT\")"
   ]
  },
  {
   "cell_type": "code",
   "execution_count": 15,
   "id": "d6bb64d0",
   "metadata": {
    "ExecuteTime": {
     "end_time": "2021-10-19T13:31:41.642503Z",
     "start_time": "2021-10-19T13:31:40.174503Z"
    }
   },
   "outputs": [],
   "source": [
    "train_xgb = xgb.DMatrix(data=df_train,\n",
    "                            label=y_train\n",
    "                            )\n",
    "\n",
    "valid_xgb = xgb.DMatrix(data=df_valid,\n",
    "                            label=y_valid,\n",
    "                            )"
   ]
  },
  {
   "cell_type": "code",
   "execution_count": 16,
   "id": "94750aa5",
   "metadata": {
    "ExecuteTime": {
     "end_time": "2021-10-19T13:33:12.766515Z",
     "start_time": "2021-10-19T13:31:41.644504Z"
    },
    "scrolled": true
   },
   "outputs": [
    {
     "name": "stdout",
     "output_type": "stream",
     "text": [
      "[0]\ttrain-auc:0.61546\tvalid-auc:0.62643\n",
      "[50]\ttrain-auc:0.85591\tvalid-auc:0.84138\n",
      "[100]\ttrain-auc:0.88718\tvalid-auc:0.85897\n",
      "[150]\ttrain-auc:0.90087\tvalid-auc:0.87171\n",
      "[200]\ttrain-auc:0.90736\tvalid-auc:0.87870\n",
      "[250]\ttrain-auc:0.91130\tvalid-auc:0.88137\n",
      "[300]\ttrain-auc:0.91343\tvalid-auc:0.88181\n",
      "[337]\ttrain-auc:0.91356\tvalid-auc:0.88178\n"
     ]
    }
   ],
   "source": [
    "model_xgb_2 = xgb.train(\n",
    "    params=params,\n",
    "    dtrain=train_xgb,\n",
    "    num_boost_round=500,\n",
    "    early_stopping_rounds=50,\n",
    "    evals=[(train_xgb, \"train\"), (valid_xgb, \"valid\")],\n",
    "    verbose_eval=50,\n",
    "    maximize=True,\n",
    ")"
   ]
  },
  {
   "cell_type": "markdown",
   "id": "b8818d55",
   "metadata": {},
   "source": [
    "При тех же гиперпараметерах модель показала более низкий результат"
   ]
  },
  {
   "cell_type": "markdown",
   "id": "5425e258",
   "metadata": {},
   "source": [
    "****************"
   ]
  },
  {
   "cell_type": "markdown",
   "id": "c22c51d8",
   "metadata": {},
   "source": [
    "**Задание 2:** сделать конкатенацию признаков\n",
    "* card1 + card2;\n",
    "* card1 + card2 + card_3 + card_5;\n",
    "* card1 + card2 + card_3 + card_5 + addr1 + addr2\n",
    "\n",
    "Рассматривать их как категориальных признаки."
   ]
  },
  {
   "cell_type": "code",
   "execution_count": 17,
   "id": "2043fd44",
   "metadata": {
    "ExecuteTime": {
     "end_time": "2021-10-19T13:33:12.782517Z",
     "start_time": "2021-10-19T13:33:12.769504Z"
    }
   },
   "outputs": [],
   "source": [
    "def feature_concatenation(df, features):\n",
    "    new_name = f'{features[0]}'\n",
    "    data = df[new_name].astype('str')\n",
    "    for i in range(1, len(features)):\n",
    "        new_name += f'_{features[i]}'\n",
    "        df[features[i]] = df[features[i]].astype('str')\n",
    "        data += df[features[i]]\n",
    "    df[new_name] = data\n",
    "    return df"
   ]
  },
  {
   "cell_type": "code",
   "execution_count": 18,
   "id": "f816c16c",
   "metadata": {
    "ExecuteTime": {
     "end_time": "2021-10-19T13:33:15.006502Z",
     "start_time": "2021-10-19T13:33:12.784506Z"
    }
   },
   "outputs": [],
   "source": [
    "df_train = feature_concatenation(X_train.copy(), ['card1', 'card2'])\n",
    "df_valid = feature_concatenation(X_valid.copy(), ['card1', 'card2'])\n",
    "df_train = feature_concatenation(df_train, ['card1', 'card2', 'card3', 'card5'])\n",
    "df_valid = feature_concatenation(df_valid, ['card1', 'card2', 'card3', 'card5'])\n",
    "df_train = feature_concatenation(df_train, ['card1', 'card2', 'card3', 'card5', 'addr1', 'addr2'])\n",
    "df_valid = feature_concatenation(df_valid, ['card1', 'card2', 'card3', 'card5', 'addr1', 'addr2'])"
   ]
  },
  {
   "cell_type": "code",
   "execution_count": 19,
   "id": "c50f8b97",
   "metadata": {
    "ExecuteTime": {
     "end_time": "2021-10-19T13:33:15.021502Z",
     "start_time": "2021-10-19T13:33:15.008502Z"
    }
   },
   "outputs": [],
   "source": [
    "df_train['target'] = y_train\n",
    "df_valid['target'] = y_valid"
   ]
  },
  {
   "cell_type": "code",
   "execution_count": 20,
   "id": "79597663",
   "metadata": {
    "ExecuteTime": {
     "end_time": "2021-10-19T13:33:16.154518Z",
     "start_time": "2021-10-19T13:33:15.024502Z"
    }
   },
   "outputs": [
    {
     "data": {
      "application/vnd.jupyter.widget-view+json": {
       "model_id": "a241c5afebb84c6099f3be3be562dad6",
       "version_major": 2,
       "version_minor": 0
      },
      "text/plain": [
       "  0%|          | 0/3 [00:00<?, ?it/s]"
      ]
     },
     "metadata": {},
     "output_type": "display_data"
    }
   ],
   "source": [
    "# кодирование средним - иначе MemoryError \n",
    "agg_cols = ['card1_card2',\n",
    "            'card1_card2_card3_card5',\n",
    "            'card1_card2_card3_card5_addr1_addr2'\n",
    "           ]\n",
    "train_len = len(df_train)\n",
    "dataset = pd.concat(objs=[df_train, df_valid], axis=0)\n",
    "\n",
    "for col in tqdm_notebook(agg_cols):\n",
    "    gp = dataset.groupby(col)['target']\n",
    "    mean = gp.mean()\n",
    "    dataset[col + '_trg_avg'] = dataset[col].map(mean)\n",
    "\n",
    "\n",
    "dataset = dataset.drop(agg_cols+['target'], axis=1)"
   ]
  },
  {
   "cell_type": "code",
   "execution_count": 21,
   "id": "d8dd5ba6",
   "metadata": {
    "ExecuteTime": {
     "end_time": "2021-10-19T13:33:17.951502Z",
     "start_time": "2021-10-19T13:33:16.155504Z"
    }
   },
   "outputs": [],
   "source": [
    "dataset = pd.get_dummies(dataset)\n",
    "dum_train = dataset[:train_len].copy() # dummies\n",
    "dum_valid = dataset[train_len:].copy() # dummies"
   ]
  },
  {
   "cell_type": "code",
   "execution_count": 22,
   "id": "3b6bb6af",
   "metadata": {
    "ExecuteTime": {
     "end_time": "2021-10-19T13:33:23.616502Z",
     "start_time": "2021-10-19T13:33:17.954502Z"
    }
   },
   "outputs": [],
   "source": [
    "train_xgb = xgb.DMatrix(data=dum_train,\n",
    "                            label=y_train\n",
    "                            )\n",
    "\n",
    "valid_xgb = xgb.DMatrix(data=dum_valid,\n",
    "                            label=y_valid,\n",
    "                            )"
   ]
  },
  {
   "cell_type": "code",
   "execution_count": 23,
   "id": "0c49f769",
   "metadata": {
    "ExecuteTime": {
     "end_time": "2021-10-19T13:38:44.886523Z",
     "start_time": "2021-10-19T13:33:23.618502Z"
    },
    "scrolled": true
   },
   "outputs": [
    {
     "name": "stdout",
     "output_type": "stream",
     "text": [
      "[0]\ttrain-auc:0.81324\tvalid-auc:0.81190\n",
      "[50]\ttrain-auc:0.95498\tvalid-auc:0.95008\n",
      "[100]\ttrain-auc:0.97239\tvalid-auc:0.96790\n",
      "[150]\ttrain-auc:0.97494\tvalid-auc:0.97019\n",
      "[200]\ttrain-auc:0.97622\tvalid-auc:0.97104\n",
      "[250]\ttrain-auc:0.97682\tvalid-auc:0.97188\n",
      "[300]\ttrain-auc:0.97703\tvalid-auc:0.97205\n",
      "[350]\ttrain-auc:0.97707\tvalid-auc:0.97208\n",
      "[400]\ttrain-auc:0.97713\tvalid-auc:0.97209\n",
      "[412]\ttrain-auc:0.97713\tvalid-auc:0.97209\n"
     ]
    }
   ],
   "source": [
    "model_xgb_3 = xgb.train(\n",
    "    params=params,\n",
    "    dtrain=train_xgb,\n",
    "    num_boost_round=500,\n",
    "    early_stopping_rounds=50,\n",
    "    evals=[(train_xgb, \"train\"), (valid_xgb, \"valid\")],\n",
    "    verbose_eval=50,\n",
    "    maximize=True,\n",
    ")"
   ]
  },
  {
   "cell_type": "markdown",
   "id": "29960491",
   "metadata": {},
   "source": [
    "качество модели улучшилось, однако скорее всего модель излишне переобучилась из-за target encoding на большом колчистве nunique категорий.  на XGBoost другие подходы сложновыполнимы. а дамми кодирование выдает  MemoryError"
   ]
  },
  {
   "cell_type": "markdown",
   "id": "b136fe14",
   "metadata": {},
   "source": [
    "**************************"
   ]
  },
  {
   "cell_type": "markdown",
   "id": "3289f8bc",
   "metadata": {},
   "source": [
    "**Задание 3:** Сделать FrequencyEncoder для признаков card1 - card6, addr1, addr2."
   ]
  },
  {
   "cell_type": "code",
   "execution_count": 24,
   "id": "2633602d",
   "metadata": {
    "ExecuteTime": {
     "end_time": "2021-10-19T13:38:44.902515Z",
     "start_time": "2021-10-19T13:38:44.887515Z"
    }
   },
   "outputs": [],
   "source": [
    "def fe_features(df, features):\n",
    "    for col in features:\n",
    "        freq_encoder = df[col].value_counts(normalize=True)\n",
    "        df[f'{col}_freq_enc'] = df[col].map(freq_encoder)\n",
    "    return df"
   ]
  },
  {
   "cell_type": "code",
   "execution_count": 25,
   "id": "c9fb6bfc",
   "metadata": {
    "ExecuteTime": {
     "end_time": "2021-10-19T13:38:45.073524Z",
     "start_time": "2021-10-19T13:38:44.904504Z"
    }
   },
   "outputs": [],
   "source": [
    "features = ['card1', 'card2', 'card3', 'card4', 'card5', 'card6']\n",
    "df_train = fe_features(X_train.copy(), features)\n",
    "df_valid = fe_features(X_valid.copy(), features)"
   ]
  },
  {
   "cell_type": "code",
   "execution_count": 26,
   "id": "ccc64be9",
   "metadata": {
    "ExecuteTime": {
     "end_time": "2021-10-19T13:38:46.095516Z",
     "start_time": "2021-10-19T13:38:45.075503Z"
    }
   },
   "outputs": [],
   "source": [
    "train_len = len(df_train)\n",
    "dataset = pd.concat(objs=[df_train, df_valid], axis=0)\n",
    "dataset = pd.get_dummies(dataset)\n",
    "dum_train = dataset[:train_len].copy() # dummies\n",
    "dum_valid = dataset[train_len:].copy() # dummies"
   ]
  },
  {
   "cell_type": "code",
   "execution_count": 27,
   "id": "c1c0a5a3",
   "metadata": {
    "ExecuteTime": {
     "end_time": "2021-10-19T13:38:47.716502Z",
     "start_time": "2021-10-19T13:38:46.096504Z"
    }
   },
   "outputs": [],
   "source": [
    "train_xgb = xgb.DMatrix(data=dum_train,\n",
    "                            label=y_train\n",
    "                            )\n",
    "\n",
    "valid_xgb = xgb.DMatrix(data=dum_valid,\n",
    "                            label=y_valid,\n",
    "                            )"
   ]
  },
  {
   "cell_type": "code",
   "execution_count": 28,
   "id": "7c51ffd8",
   "metadata": {
    "ExecuteTime": {
     "end_time": "2021-10-19T13:40:15.044515Z",
     "start_time": "2021-10-19T13:38:47.717504Z"
    },
    "scrolled": true
   },
   "outputs": [
    {
     "name": "stdout",
     "output_type": "stream",
     "text": [
      "[0]\ttrain-auc:0.61546\tvalid-auc:0.62643\n",
      "[50]\ttrain-auc:0.85620\tvalid-auc:0.84048\n",
      "[100]\ttrain-auc:0.88819\tvalid-auc:0.86083\n",
      "[150]\ttrain-auc:0.90307\tvalid-auc:0.87930\n",
      "[200]\ttrain-auc:0.90935\tvalid-auc:0.88612\n",
      "[250]\ttrain-auc:0.91377\tvalid-auc:0.88872\n",
      "[300]\ttrain-auc:0.91628\tvalid-auc:0.88964\n",
      "[344]\ttrain-auc:0.91628\tvalid-auc:0.88964\n"
     ]
    }
   ],
   "source": [
    "model_xgb_3 = xgb.train(\n",
    "    params=params,\n",
    "    dtrain=train_xgb,\n",
    "    num_boost_round=500,\n",
    "    early_stopping_rounds=50,\n",
    "    evals=[(train_xgb, \"train\"), (valid_xgb, \"valid\")],\n",
    "    verbose_eval=50,\n",
    "    maximize=True,\n",
    ")"
   ]
  },
  {
   "cell_type": "markdown",
   "id": "19562337",
   "metadata": {},
   "source": [
    "чуть хуже базовой модели"
   ]
  },
  {
   "cell_type": "markdown",
   "id": "8d44b546",
   "metadata": {},
   "source": [
    "***********************"
   ]
  },
  {
   "cell_type": "markdown",
   "id": "4566402a",
   "metadata": {},
   "source": [
    "**Задание 4:** Создать признаки на основе отношения: TransactionAmt к вычисленной статистике. Статистика - среднее значение / стандартное отклонение TransactionAmt, сгруппированное по card1 - card6, addr1, addr2, и по признакам, созданным в задании 2."
   ]
  },
  {
   "cell_type": "code",
   "execution_count": 29,
   "id": "e2d9d34b",
   "metadata": {
    "ExecuteTime": {
     "end_time": "2021-10-19T13:40:16.888514Z",
     "start_time": "2021-10-19T13:40:15.046503Z"
    }
   },
   "outputs": [],
   "source": [
    "df_train = feature_concatenation(X_train.copy(), ['card1', 'card2'])\n",
    "df_valid = feature_concatenation(X_valid.copy(), ['card1', 'card2'])\n",
    "df_train = feature_concatenation(df_train, ['card1', 'card2', 'card3', 'card5'])\n",
    "df_valid = feature_concatenation(df_valid, ['card1', 'card2', 'card3', 'card5'])\n",
    "df_train = feature_concatenation(df_train, ['card1', 'card2', 'card3', 'card5', 'addr1', 'addr2'])\n",
    "df_valid = feature_concatenation(df_valid, ['card1', 'card2', 'card3', 'card5', 'addr1', 'addr2'])"
   ]
  },
  {
   "cell_type": "code",
   "execution_count": 30,
   "id": "27d75f53",
   "metadata": {
    "ExecuteTime": {
     "end_time": "2021-10-19T13:40:17.329523Z",
     "start_time": "2021-10-19T13:40:16.889722Z"
    },
    "scrolled": true
   },
   "outputs": [
    {
     "data": {
      "text/html": [
       "<div>\n",
       "<style scoped>\n",
       "    .dataframe tbody tr th:only-of-type {\n",
       "        vertical-align: middle;\n",
       "    }\n",
       "\n",
       "    .dataframe tbody tr th {\n",
       "        vertical-align: top;\n",
       "    }\n",
       "\n",
       "    .dataframe thead th {\n",
       "        text-align: right;\n",
       "    }\n",
       "</style>\n",
       "<table border=\"1\" class=\"dataframe\">\n",
       "  <thead>\n",
       "    <tr style=\"text-align: right;\">\n",
       "      <th></th>\n",
       "      <th>TransactionDT</th>\n",
       "      <th>TransactionAmt</th>\n",
       "      <th>ProductCD</th>\n",
       "      <th>card1</th>\n",
       "      <th>card2</th>\n",
       "      <th>card3</th>\n",
       "      <th>card4</th>\n",
       "      <th>card5</th>\n",
       "      <th>card6</th>\n",
       "      <th>addr1</th>\n",
       "      <th>...</th>\n",
       "      <th>card2_TrAmt_stat</th>\n",
       "      <th>card3_TrAmt_stat</th>\n",
       "      <th>card4_TrAmt_stat</th>\n",
       "      <th>card5_TrAmt_stat</th>\n",
       "      <th>card6_TrAmt_stat</th>\n",
       "      <th>addr1_TrAmt_stat</th>\n",
       "      <th>addr2_TrAmt_stat</th>\n",
       "      <th>card1_card2_TrAmt_stat</th>\n",
       "      <th>card1_card2_card3_card5_TrAmt_stat</th>\n",
       "      <th>card1_card2_card3_card5_addr1_addr2_TrAmt_stat</th>\n",
       "    </tr>\n",
       "    <tr>\n",
       "      <th>TransactionID</th>\n",
       "      <th></th>\n",
       "      <th></th>\n",
       "      <th></th>\n",
       "      <th></th>\n",
       "      <th></th>\n",
       "      <th></th>\n",
       "      <th></th>\n",
       "      <th></th>\n",
       "      <th></th>\n",
       "      <th></th>\n",
       "      <th></th>\n",
       "      <th></th>\n",
       "      <th></th>\n",
       "      <th></th>\n",
       "      <th></th>\n",
       "      <th></th>\n",
       "      <th></th>\n",
       "      <th></th>\n",
       "      <th></th>\n",
       "      <th></th>\n",
       "      <th></th>\n",
       "    </tr>\n",
       "  </thead>\n",
       "  <tbody>\n",
       "    <tr>\n",
       "      <th>2987000</th>\n",
       "      <td>86400</td>\n",
       "      <td>68.5</td>\n",
       "      <td>W</td>\n",
       "      <td>13926</td>\n",
       "      <td>nan</td>\n",
       "      <td>150.0</td>\n",
       "      <td>discover</td>\n",
       "      <td>142.0</td>\n",
       "      <td>credit</td>\n",
       "      <td>315.0</td>\n",
       "      <td>...</td>\n",
       "      <td>117.377016</td>\n",
       "      <td>104.090544</td>\n",
       "      <td>110.702963</td>\n",
       "      <td>53.972697</td>\n",
       "      <td>103.499965</td>\n",
       "      <td>116.430281</td>\n",
       "      <td>103.99344</td>\n",
       "      <td>25.328146</td>\n",
       "      <td>25.328146</td>\n",
       "      <td>NaN</td>\n",
       "    </tr>\n",
       "    <tr>\n",
       "      <th>2987001</th>\n",
       "      <td>86401</td>\n",
       "      <td>29.0</td>\n",
       "      <td>W</td>\n",
       "      <td>2755</td>\n",
       "      <td>404.0</td>\n",
       "      <td>150.0</td>\n",
       "      <td>mastercard</td>\n",
       "      <td>102.0</td>\n",
       "      <td>credit</td>\n",
       "      <td>325.0</td>\n",
       "      <td>...</td>\n",
       "      <td>43.191368</td>\n",
       "      <td>44.067530</td>\n",
       "      <td>46.904221</td>\n",
       "      <td>44.445038</td>\n",
       "      <td>43.817504</td>\n",
       "      <td>43.826863</td>\n",
       "      <td>44.02642</td>\n",
       "      <td>54.066649</td>\n",
       "      <td>54.066649</td>\n",
       "      <td>35.204208</td>\n",
       "    </tr>\n",
       "  </tbody>\n",
       "</table>\n",
       "<p>2 rows × 406 columns</p>\n",
       "</div>"
      ],
      "text/plain": [
       "               TransactionDT  TransactionAmt ProductCD  card1  card2  card3  \\\n",
       "TransactionID                                                                 \n",
       "2987000                86400            68.5         W  13926    nan  150.0   \n",
       "2987001                86401            29.0         W   2755  404.0  150.0   \n",
       "\n",
       "                    card4  card5   card6  addr1  ... card2_TrAmt_stat  \\\n",
       "TransactionID                                    ...                    \n",
       "2987000          discover  142.0  credit  315.0  ...       117.377016   \n",
       "2987001        mastercard  102.0  credit  325.0  ...        43.191368   \n",
       "\n",
       "               card3_TrAmt_stat  card4_TrAmt_stat card5_TrAmt_stat  \\\n",
       "TransactionID                                                        \n",
       "2987000              104.090544        110.702963        53.972697   \n",
       "2987001               44.067530         46.904221        44.445038   \n",
       "\n",
       "              card6_TrAmt_stat  addr1_TrAmt_stat  addr2_TrAmt_stat  \\\n",
       "TransactionID                                                        \n",
       "2987000             103.499965        116.430281         103.99344   \n",
       "2987001              43.817504         43.826863          44.02642   \n",
       "\n",
       "               card1_card2_TrAmt_stat  card1_card2_card3_card5_TrAmt_stat  \\\n",
       "TransactionID                                                               \n",
       "2987000                     25.328146                           25.328146   \n",
       "2987001                     54.066649                           54.066649   \n",
       "\n",
       "               card1_card2_card3_card5_addr1_addr2_TrAmt_stat  \n",
       "TransactionID                                                  \n",
       "2987000                                                   NaN  \n",
       "2987001                                             35.204208  \n",
       "\n",
       "[2 rows x 406 columns]"
      ]
     },
     "execution_count": 30,
     "metadata": {},
     "output_type": "execute_result"
    }
   ],
   "source": [
    "features_agg = ['card1', 'card2', 'card3', 'card4', 'card5', 'card6', 'addr1', 'addr2', \\\n",
    "                'card1_card2', 'card1_card2_card3_card5', 'card1_card2_card3_card5_addr1_addr2']\n",
    "target = 'TransactionAmt'\n",
    "# ЕСЛИ правильно понята фраза отношение к статистике\n",
    "for feature in features_agg:\n",
    "    df_train[f'{feature}_TrAmt_stat'] = df_train[target]/(df_train.groupby(feature)[target].transform('mean') / \\\n",
    "                                        df_train.groupby(feature)[target].transform('std'))\n",
    "\n",
    "df_train.head(2)"
   ]
  },
  {
   "cell_type": "markdown",
   "id": "cd9f081f",
   "metadata": {},
   "source": [
    "*****************"
   ]
  },
  {
   "cell_type": "markdown",
   "id": "c0edb1d4",
   "metadata": {},
   "source": [
    "**Задание 5:** Создать признаки на основе отношения: D15 к вычисленной статистике. Статистика - среднее значение / стандартное отклонение D15, сгруппированное по card1 - card6, addr1, addr2, и по признакам, созданным в задании 2."
   ]
  },
  {
   "cell_type": "code",
   "execution_count": 31,
   "id": "df8e1b78",
   "metadata": {
    "ExecuteTime": {
     "end_time": "2021-10-19T13:40:17.771524Z",
     "start_time": "2021-10-19T13:40:17.330504Z"
    },
    "scrolled": true
   },
   "outputs": [
    {
     "data": {
      "text/html": [
       "<div>\n",
       "<style scoped>\n",
       "    .dataframe tbody tr th:only-of-type {\n",
       "        vertical-align: middle;\n",
       "    }\n",
       "\n",
       "    .dataframe tbody tr th {\n",
       "        vertical-align: top;\n",
       "    }\n",
       "\n",
       "    .dataframe thead th {\n",
       "        text-align: right;\n",
       "    }\n",
       "</style>\n",
       "<table border=\"1\" class=\"dataframe\">\n",
       "  <thead>\n",
       "    <tr style=\"text-align: right;\">\n",
       "      <th></th>\n",
       "      <th>TransactionDT</th>\n",
       "      <th>TransactionAmt</th>\n",
       "      <th>ProductCD</th>\n",
       "      <th>card1</th>\n",
       "      <th>card2</th>\n",
       "      <th>card3</th>\n",
       "      <th>card4</th>\n",
       "      <th>card5</th>\n",
       "      <th>card6</th>\n",
       "      <th>addr1</th>\n",
       "      <th>...</th>\n",
       "      <th>card2_TrAmt_stat</th>\n",
       "      <th>card3_TrAmt_stat</th>\n",
       "      <th>card4_TrAmt_stat</th>\n",
       "      <th>card5_TrAmt_stat</th>\n",
       "      <th>card6_TrAmt_stat</th>\n",
       "      <th>addr1_TrAmt_stat</th>\n",
       "      <th>addr2_TrAmt_stat</th>\n",
       "      <th>card1_card2_TrAmt_stat</th>\n",
       "      <th>card1_card2_card3_card5_TrAmt_stat</th>\n",
       "      <th>card1_card2_card3_card5_addr1_addr2_TrAmt_stat</th>\n",
       "    </tr>\n",
       "    <tr>\n",
       "      <th>TransactionID</th>\n",
       "      <th></th>\n",
       "      <th></th>\n",
       "      <th></th>\n",
       "      <th></th>\n",
       "      <th></th>\n",
       "      <th></th>\n",
       "      <th></th>\n",
       "      <th></th>\n",
       "      <th></th>\n",
       "      <th></th>\n",
       "      <th></th>\n",
       "      <th></th>\n",
       "      <th></th>\n",
       "      <th></th>\n",
       "      <th></th>\n",
       "      <th></th>\n",
       "      <th></th>\n",
       "      <th></th>\n",
       "      <th></th>\n",
       "      <th></th>\n",
       "      <th></th>\n",
       "    </tr>\n",
       "  </thead>\n",
       "  <tbody>\n",
       "    <tr>\n",
       "      <th>2987000</th>\n",
       "      <td>86400</td>\n",
       "      <td>68.5</td>\n",
       "      <td>W</td>\n",
       "      <td>13926</td>\n",
       "      <td>nan</td>\n",
       "      <td>150.0</td>\n",
       "      <td>discover</td>\n",
       "      <td>142.0</td>\n",
       "      <td>credit</td>\n",
       "      <td>315.0</td>\n",
       "      <td>...</td>\n",
       "      <td>0.0</td>\n",
       "      <td>0.0</td>\n",
       "      <td>0.0</td>\n",
       "      <td>0.0</td>\n",
       "      <td>0.0</td>\n",
       "      <td>0.0</td>\n",
       "      <td>0.0</td>\n",
       "      <td>NaN</td>\n",
       "      <td>NaN</td>\n",
       "      <td>NaN</td>\n",
       "    </tr>\n",
       "    <tr>\n",
       "      <th>2987001</th>\n",
       "      <td>86401</td>\n",
       "      <td>29.0</td>\n",
       "      <td>W</td>\n",
       "      <td>2755</td>\n",
       "      <td>404.0</td>\n",
       "      <td>150.0</td>\n",
       "      <td>mastercard</td>\n",
       "      <td>102.0</td>\n",
       "      <td>credit</td>\n",
       "      <td>325.0</td>\n",
       "      <td>...</td>\n",
       "      <td>0.0</td>\n",
       "      <td>0.0</td>\n",
       "      <td>0.0</td>\n",
       "      <td>0.0</td>\n",
       "      <td>0.0</td>\n",
       "      <td>0.0</td>\n",
       "      <td>0.0</td>\n",
       "      <td>0.0</td>\n",
       "      <td>0.0</td>\n",
       "      <td>0.0</td>\n",
       "    </tr>\n",
       "  </tbody>\n",
       "</table>\n",
       "<p>2 rows × 406 columns</p>\n",
       "</div>"
      ],
      "text/plain": [
       "               TransactionDT  TransactionAmt ProductCD  card1  card2  card3  \\\n",
       "TransactionID                                                                 \n",
       "2987000                86400            68.5         W  13926    nan  150.0   \n",
       "2987001                86401            29.0         W   2755  404.0  150.0   \n",
       "\n",
       "                    card4  card5   card6  addr1  ... card2_TrAmt_stat  \\\n",
       "TransactionID                                    ...                    \n",
       "2987000          discover  142.0  credit  315.0  ...              0.0   \n",
       "2987001        mastercard  102.0  credit  325.0  ...              0.0   \n",
       "\n",
       "               card3_TrAmt_stat  card4_TrAmt_stat card5_TrAmt_stat  \\\n",
       "TransactionID                                                        \n",
       "2987000                     0.0               0.0              0.0   \n",
       "2987001                     0.0               0.0              0.0   \n",
       "\n",
       "              card6_TrAmt_stat  addr1_TrAmt_stat  addr2_TrAmt_stat  \\\n",
       "TransactionID                                                        \n",
       "2987000                    0.0               0.0               0.0   \n",
       "2987001                    0.0               0.0               0.0   \n",
       "\n",
       "               card1_card2_TrAmt_stat  card1_card2_card3_card5_TrAmt_stat  \\\n",
       "TransactionID                                                               \n",
       "2987000                           NaN                                 NaN   \n",
       "2987001                           0.0                                 0.0   \n",
       "\n",
       "               card1_card2_card3_card5_addr1_addr2_TrAmt_stat  \n",
       "TransactionID                                                  \n",
       "2987000                                                   NaN  \n",
       "2987001                                                   0.0  \n",
       "\n",
       "[2 rows x 406 columns]"
      ]
     },
     "execution_count": 31,
     "metadata": {},
     "output_type": "execute_result"
    }
   ],
   "source": [
    "target = 'D15'\n",
    "\n",
    "# ЕСЛИ правильно понята фраза отношение к статистике\n",
    "for feature in features_agg:\n",
    "    df_train[f'{feature}_TrD15_stat'] = df_train[target]/(df_train.groupby(feature)[target].transform('mean') / \\\n",
    "                                        df_train.groupby(feature)[target].transform('std'))\n",
    "df_train.head(2)"
   ]
  },
  {
   "cell_type": "markdown",
   "id": "f7a681b3",
   "metadata": {},
   "source": [
    "******************"
   ]
  },
  {
   "cell_type": "markdown",
   "id": "613b583d",
   "metadata": {},
   "source": [
    "**Задание 6:** выделить дробную часть и целую часть признака TransactionAmt в два отдельных признака. После создать отдельных признак - логарифм от TransactionAmt"
   ]
  },
  {
   "cell_type": "code",
   "execution_count": 32,
   "id": "e9689a56",
   "metadata": {
    "ExecuteTime": {
     "end_time": "2021-10-19T13:40:17.787503Z",
     "start_time": "2021-10-19T13:40:17.773504Z"
    }
   },
   "outputs": [],
   "source": [
    "def new_feature(df, target):\n",
    "    df[f'{target}_int'] = df[target].astype(int)\n",
    "    df[f'{target}_frac'] = df[target] - df[f'{target}_int']\n",
    "    df[f'{target}_log'] = np.log(df[target])\n",
    "    return df"
   ]
  },
  {
   "cell_type": "code",
   "execution_count": 33,
   "id": "d8bf80f8",
   "metadata": {
    "ExecuteTime": {
     "end_time": "2021-10-19T13:40:17.819524Z",
     "start_time": "2021-10-19T13:40:17.789503Z"
    }
   },
   "outputs": [
    {
     "data": {
      "text/html": [
       "<div>\n",
       "<style scoped>\n",
       "    .dataframe tbody tr th:only-of-type {\n",
       "        vertical-align: middle;\n",
       "    }\n",
       "\n",
       "    .dataframe tbody tr th {\n",
       "        vertical-align: top;\n",
       "    }\n",
       "\n",
       "    .dataframe thead th {\n",
       "        text-align: right;\n",
       "    }\n",
       "</style>\n",
       "<table border=\"1\" class=\"dataframe\">\n",
       "  <thead>\n",
       "    <tr style=\"text-align: right;\">\n",
       "      <th></th>\n",
       "      <th>TransactionDT</th>\n",
       "      <th>TransactionAmt</th>\n",
       "      <th>ProductCD</th>\n",
       "      <th>card1</th>\n",
       "      <th>card2</th>\n",
       "      <th>card3</th>\n",
       "      <th>card4</th>\n",
       "      <th>card5</th>\n",
       "      <th>card6</th>\n",
       "      <th>addr1</th>\n",
       "      <th>...</th>\n",
       "      <th>V333</th>\n",
       "      <th>V334</th>\n",
       "      <th>V335</th>\n",
       "      <th>V336</th>\n",
       "      <th>V337</th>\n",
       "      <th>V338</th>\n",
       "      <th>V339</th>\n",
       "      <th>TransactionAmt_int</th>\n",
       "      <th>TransactionAmt_frac</th>\n",
       "      <th>TransactionAmt_log</th>\n",
       "    </tr>\n",
       "    <tr>\n",
       "      <th>TransactionID</th>\n",
       "      <th></th>\n",
       "      <th></th>\n",
       "      <th></th>\n",
       "      <th></th>\n",
       "      <th></th>\n",
       "      <th></th>\n",
       "      <th></th>\n",
       "      <th></th>\n",
       "      <th></th>\n",
       "      <th></th>\n",
       "      <th></th>\n",
       "      <th></th>\n",
       "      <th></th>\n",
       "      <th></th>\n",
       "      <th></th>\n",
       "      <th></th>\n",
       "      <th></th>\n",
       "      <th></th>\n",
       "      <th></th>\n",
       "      <th></th>\n",
       "      <th></th>\n",
       "    </tr>\n",
       "  </thead>\n",
       "  <tbody>\n",
       "    <tr>\n",
       "      <th>2987000</th>\n",
       "      <td>86400</td>\n",
       "      <td>68.5</td>\n",
       "      <td>W</td>\n",
       "      <td>13926</td>\n",
       "      <td>NaN</td>\n",
       "      <td>150.0</td>\n",
       "      <td>discover</td>\n",
       "      <td>142.0</td>\n",
       "      <td>credit</td>\n",
       "      <td>315.0</td>\n",
       "      <td>...</td>\n",
       "      <td>NaN</td>\n",
       "      <td>NaN</td>\n",
       "      <td>NaN</td>\n",
       "      <td>NaN</td>\n",
       "      <td>NaN</td>\n",
       "      <td>NaN</td>\n",
       "      <td>NaN</td>\n",
       "      <td>68</td>\n",
       "      <td>0.5</td>\n",
       "      <td>4.226834</td>\n",
       "    </tr>\n",
       "    <tr>\n",
       "      <th>2987001</th>\n",
       "      <td>86401</td>\n",
       "      <td>29.0</td>\n",
       "      <td>W</td>\n",
       "      <td>2755</td>\n",
       "      <td>404.0</td>\n",
       "      <td>150.0</td>\n",
       "      <td>mastercard</td>\n",
       "      <td>102.0</td>\n",
       "      <td>credit</td>\n",
       "      <td>325.0</td>\n",
       "      <td>...</td>\n",
       "      <td>NaN</td>\n",
       "      <td>NaN</td>\n",
       "      <td>NaN</td>\n",
       "      <td>NaN</td>\n",
       "      <td>NaN</td>\n",
       "      <td>NaN</td>\n",
       "      <td>NaN</td>\n",
       "      <td>29</td>\n",
       "      <td>0.0</td>\n",
       "      <td>3.367296</td>\n",
       "    </tr>\n",
       "  </tbody>\n",
       "</table>\n",
       "<p>2 rows × 395 columns</p>\n",
       "</div>"
      ],
      "text/plain": [
       "               TransactionDT  TransactionAmt ProductCD  card1  card2  card3  \\\n",
       "TransactionID                                                                 \n",
       "2987000                86400            68.5         W  13926    NaN  150.0   \n",
       "2987001                86401            29.0         W   2755  404.0  150.0   \n",
       "\n",
       "                    card4  card5   card6  addr1  ...  V333  V334  V335 V336  \\\n",
       "TransactionID                                    ...                          \n",
       "2987000          discover  142.0  credit  315.0  ...   NaN   NaN   NaN  NaN   \n",
       "2987001        mastercard  102.0  credit  325.0  ...   NaN   NaN   NaN  NaN   \n",
       "\n",
       "              V337  V338  V339  TransactionAmt_int  TransactionAmt_frac  \\\n",
       "TransactionID                                                             \n",
       "2987000        NaN   NaN   NaN                  68                  0.5   \n",
       "2987001        NaN   NaN   NaN                  29                  0.0   \n",
       "\n",
       "               TransactionAmt_log  \n",
       "TransactionID                      \n",
       "2987000                  4.226834  \n",
       "2987001                  3.367296  \n",
       "\n",
       "[2 rows x 395 columns]"
      ]
     },
     "execution_count": 33,
     "metadata": {},
     "output_type": "execute_result"
    }
   ],
   "source": [
    "df_train = new_feature(X_train, 'TransactionAmt')\n",
    "df_train.head(2)"
   ]
  }
 ],
 "metadata": {
  "kernelspec": {
   "display_name": "Python 3",
   "language": "python",
   "name": "python3"
  },
  "language_info": {
   "codemirror_mode": {
    "name": "ipython",
    "version": 3
   },
   "file_extension": ".py",
   "mimetype": "text/x-python",
   "name": "python",
   "nbconvert_exporter": "python",
   "pygments_lexer": "ipython3",
   "version": "3.8.8"
  },
  "toc": {
   "base_numbering": 1,
   "nav_menu": {},
   "number_sections": true,
   "sideBar": true,
   "skip_h1_title": false,
   "title_cell": "Table of Contents",
   "title_sidebar": "Contents",
   "toc_cell": false,
   "toc_position": {},
   "toc_section_display": true,
   "toc_window_display": false
  }
 },
 "nbformat": 4,
 "nbformat_minor": 5
}
