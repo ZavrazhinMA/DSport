{
 "cells": [
  {
   "cell_type": "code",
   "execution_count": 1,
   "id": "993e8746",
   "metadata": {
    "ExecuteTime": {
     "end_time": "2021-10-12T17:04:46.714607Z",
     "start_time": "2021-10-12T17:04:45.515606Z"
    }
   },
   "outputs": [],
   "source": [
    "import numpy as np\n",
    "import pandas as pd\n",
    "import warnings\n",
    "import matplotlib.pyplot as plt\n",
    "import seaborn as sns\n",
    "warnings.filterwarnings('ignore')\n",
    "%matplotlib inline\n",
    "%config InlineBackend.figure_format = 'svg'\n",
    "plt.style.use('ggplot')\n",
    "plt.rcParams[\"font.family\"] = \"Times New Roman\""
   ]
  },
  {
   "cell_type": "code",
   "execution_count": 2,
   "id": "1b621416",
   "metadata": {
    "ExecuteTime": {
     "end_time": "2021-10-12T17:04:47.532616Z",
     "start_time": "2021-10-12T17:04:46.715612Z"
    }
   },
   "outputs": [],
   "source": [
    "from sklearn.model_selection import KFold, StratifiedKFold, train_test_split, cross_val_score\n",
    "from sklearn.metrics import roc_auc_score, roc_curve, auc\n",
    "from catboost.utils import get_roc_curve\n",
    "import xgboost as xgb\n",
    "from typing import List, Tuple"
   ]
  },
  {
   "cell_type": "markdown",
   "id": "be0c2aec",
   "metadata": {},
   "source": [
    "************"
   ]
  },
  {
   "cell_type": "code",
   "execution_count": 3,
   "id": "c36b0d52",
   "metadata": {
    "ExecuteTime": {
     "end_time": "2021-10-12T17:04:47.548617Z",
     "start_time": "2021-10-12T17:04:47.534617Z"
    }
   },
   "outputs": [],
   "source": [
    "def reduce_mem_usage(df):\n",
    "    \"\"\" iterate through all the columns of a dataframe and modify the data type\n",
    "        to reduce memory usage.        \n",
    "    \"\"\"\n",
    "    start_mem = df.memory_usage().sum() / 1024**2\n",
    "    print('Memory usage of dataframe is {:.2f} MB'.format(start_mem))\n",
    "    for col in df.columns:\n",
    "        col_type = df[col].dtype\n",
    "        if col_type != object:\n",
    "            c_min = df[col].min()\n",
    "            c_max = df[col].max()\n",
    "            if str(col_type)[:3] == 'int':\n",
    "                if c_min > np.iinfo(np.int8).min and c_max < np.iinfo(np.int8).max:\n",
    "                    df[col] = df[col].astype(np.int8)\n",
    "                elif c_min > np.iinfo(np.int16).min and c_max < np.iinfo(np.int16).max:\n",
    "                    df[col] = df[col].astype(np.int16)\n",
    "                elif c_min > np.iinfo(np.int32).min and c_max < np.iinfo(np.int32).max:\n",
    "                    df[col] = df[col].astype(np.int32)\n",
    "                elif c_min > np.iinfo(np.int64).min and c_max < np.iinfo(np.int64).max:\n",
    "                    df[col] = df[col].astype(np.int64)\n",
    "            else:\n",
    "                if c_min > np.finfo(np.float32).min and c_max < np.finfo(np.float32).max:\n",
    "                    df[col] = df[col].astype(np.float32)\n",
    "                else:\n",
    "                    df[col] = df[col].astype(np.float64)\n",
    "        else:\n",
    "            df[col] = df[col].astype('category')\n",
    "    end_mem = df.memory_usage().sum() / 1024**2\n",
    "    print('Memory usage after optimization is: {:.2f} MB'.format(end_mem))\n",
    "    print('Decreased by {:.1f}%'.format(\n",
    "        100 * (start_mem - end_mem) / start_mem))\n",
    "\n",
    "    return df"
   ]
  },
  {
   "cell_type": "code",
   "execution_count": 4,
   "id": "79407b00",
   "metadata": {
    "ExecuteTime": {
     "end_time": "2021-10-12T17:05:44.553616Z",
     "start_time": "2021-10-12T17:04:47.549606Z"
    }
   },
   "outputs": [
    {
     "name": "stdout",
     "output_type": "stream",
     "text": [
      "Memory usage of dataframe is 541.08 MB\n",
      "Memory usage after optimization is: 262.48 MB\n",
      "Decreased by 51.5%\n",
      "Memory usage of dataframe is 300.60 MB\n",
      "Memory usage after optimization is: 145.82 MB\n",
      "Decreased by 51.5%\n"
     ]
    }
   ],
   "source": [
    "train = reduce_mem_usage(pd.read_csv('assignment_2_train.csv'))\n",
    "test = reduce_mem_usage(pd.read_csv('assignment_2_test.csv'))"
   ]
  },
  {
   "cell_type": "code",
   "execution_count": 5,
   "id": "40925caa",
   "metadata": {
    "ExecuteTime": {
     "end_time": "2021-10-12T17:05:44.599624Z",
     "start_time": "2021-10-12T17:05:44.555605Z"
    }
   },
   "outputs": [
    {
     "data": {
      "text/html": [
       "<div>\n",
       "<style scoped>\n",
       "    .dataframe tbody tr th:only-of-type {\n",
       "        vertical-align: middle;\n",
       "    }\n",
       "\n",
       "    .dataframe tbody tr th {\n",
       "        vertical-align: top;\n",
       "    }\n",
       "\n",
       "    .dataframe thead th {\n",
       "        text-align: right;\n",
       "    }\n",
       "</style>\n",
       "<table border=\"1\" class=\"dataframe\">\n",
       "  <thead>\n",
       "    <tr style=\"text-align: right;\">\n",
       "      <th></th>\n",
       "      <th>TransactionID</th>\n",
       "      <th>isFraud</th>\n",
       "      <th>TransactionDT</th>\n",
       "      <th>TransactionAmt</th>\n",
       "      <th>ProductCD</th>\n",
       "      <th>card1</th>\n",
       "      <th>card2</th>\n",
       "      <th>card3</th>\n",
       "      <th>card4</th>\n",
       "      <th>card5</th>\n",
       "      <th>...</th>\n",
       "      <th>V330</th>\n",
       "      <th>V331</th>\n",
       "      <th>V332</th>\n",
       "      <th>V333</th>\n",
       "      <th>V334</th>\n",
       "      <th>V335</th>\n",
       "      <th>V336</th>\n",
       "      <th>V337</th>\n",
       "      <th>V338</th>\n",
       "      <th>V339</th>\n",
       "    </tr>\n",
       "  </thead>\n",
       "  <tbody>\n",
       "    <tr>\n",
       "      <th>0</th>\n",
       "      <td>2987000</td>\n",
       "      <td>0</td>\n",
       "      <td>86400</td>\n",
       "      <td>68.5</td>\n",
       "      <td>W</td>\n",
       "      <td>13926</td>\n",
       "      <td>NaN</td>\n",
       "      <td>150.0</td>\n",
       "      <td>discover</td>\n",
       "      <td>142.0</td>\n",
       "      <td>...</td>\n",
       "      <td>NaN</td>\n",
       "      <td>NaN</td>\n",
       "      <td>NaN</td>\n",
       "      <td>NaN</td>\n",
       "      <td>NaN</td>\n",
       "      <td>NaN</td>\n",
       "      <td>NaN</td>\n",
       "      <td>NaN</td>\n",
       "      <td>NaN</td>\n",
       "      <td>NaN</td>\n",
       "    </tr>\n",
       "    <tr>\n",
       "      <th>1</th>\n",
       "      <td>2987001</td>\n",
       "      <td>0</td>\n",
       "      <td>86401</td>\n",
       "      <td>29.0</td>\n",
       "      <td>W</td>\n",
       "      <td>2755</td>\n",
       "      <td>404.0</td>\n",
       "      <td>150.0</td>\n",
       "      <td>mastercard</td>\n",
       "      <td>102.0</td>\n",
       "      <td>...</td>\n",
       "      <td>NaN</td>\n",
       "      <td>NaN</td>\n",
       "      <td>NaN</td>\n",
       "      <td>NaN</td>\n",
       "      <td>NaN</td>\n",
       "      <td>NaN</td>\n",
       "      <td>NaN</td>\n",
       "      <td>NaN</td>\n",
       "      <td>NaN</td>\n",
       "      <td>NaN</td>\n",
       "    </tr>\n",
       "  </tbody>\n",
       "</table>\n",
       "<p>2 rows × 394 columns</p>\n",
       "</div>"
      ],
      "text/plain": [
       "   TransactionID  isFraud  TransactionDT  TransactionAmt ProductCD  card1  \\\n",
       "0        2987000        0          86400            68.5         W  13926   \n",
       "1        2987001        0          86401            29.0         W   2755   \n",
       "\n",
       "   card2  card3       card4  card5  ... V330  V331  V332  V333  V334 V335  \\\n",
       "0    NaN  150.0    discover  142.0  ...  NaN   NaN   NaN   NaN   NaN  NaN   \n",
       "1  404.0  150.0  mastercard  102.0  ...  NaN   NaN   NaN   NaN   NaN  NaN   \n",
       "\n",
       "  V336  V337  V338  V339  \n",
       "0  NaN   NaN   NaN   NaN  \n",
       "1  NaN   NaN   NaN   NaN  \n",
       "\n",
       "[2 rows x 394 columns]"
      ]
     },
     "execution_count": 5,
     "metadata": {},
     "output_type": "execute_result"
    }
   ],
   "source": [
    "train.head(2) "
   ]
  },
  {
   "cell_type": "code",
   "execution_count": 6,
   "id": "149a63ea",
   "metadata": {
    "ExecuteTime": {
     "end_time": "2021-10-12T17:05:44.631608Z",
     "start_time": "2021-10-12T17:05:44.601616Z"
    }
   },
   "outputs": [
    {
     "name": "stdout",
     "output_type": "stream",
     "text": [
      "<class 'pandas.core.frame.DataFrame'>\n",
      "RangeIndex: 180000 entries, 0 to 179999\n",
      "Columns: 394 entries, TransactionID to V339\n",
      "dtypes: category(14), float32(376), int16(1), int32(2), int8(1)\n",
      "memory usage: 262.5 MB\n"
     ]
    }
   ],
   "source": [
    "train.info()"
   ]
  },
  {
   "cell_type": "code",
   "execution_count": 7,
   "id": "a538f453",
   "metadata": {
    "ExecuteTime": {
     "end_time": "2021-10-12T17:05:44.663659Z",
     "start_time": "2021-10-12T17:05:44.634603Z"
    }
   },
   "outputs": [
    {
     "name": "stdout",
     "output_type": "stream",
     "text": [
      "<class 'pandas.core.frame.DataFrame'>\n",
      "RangeIndex: 100001 entries, 0 to 100000\n",
      "Columns: 394 entries, TransactionID to V339\n",
      "dtypes: category(14), float32(376), int16(1), int32(2), int8(1)\n",
      "memory usage: 145.8 MB\n"
     ]
    }
   ],
   "source": [
    "test.info()"
   ]
  },
  {
   "cell_type": "code",
   "execution_count": 8,
   "id": "6d168082",
   "metadata": {
    "ExecuteTime": {
     "end_time": "2021-10-12T17:05:46.353660Z",
     "start_time": "2021-10-12T17:05:44.665662Z"
    }
   },
   "outputs": [],
   "source": [
    "numerical_features = train.select_dtypes(include=[np.number]).columns.to_list()\n",
    "numerical_features.remove('isFraud')\n",
    "numerical_features.remove('TransactionID')\n",
    "train_len = len(train)\n",
    "dataset = pd.concat(objs=[train, test], axis=0)\n",
    "dataset = pd.get_dummies(dataset)\n",
    "dum_train = dataset[:train_len].copy() # dummies\n",
    "dum_test = dataset[train_len:].copy() # dummies"
   ]
  },
  {
   "cell_type": "code",
   "execution_count": 9,
   "id": "b1d371e6",
   "metadata": {
    "ExecuteTime": {
     "end_time": "2021-10-12T17:05:46.369673Z",
     "start_time": "2021-10-12T17:05:46.354660Z"
    }
   },
   "outputs": [],
   "source": [
    "# dum_train.set_index('TransactionID', inplace=True)\n",
    "# dum_test.set_index('TransactionID', inplace=True)"
   ]
  },
  {
   "cell_type": "markdown",
   "id": "ea25baa0",
   "metadata": {},
   "source": [
    "**************************"
   ]
  },
  {
   "cell_type": "markdown",
   "id": "b6ebf38a",
   "metadata": {},
   "source": [
    "**Задание 1:** сделать Hold-Out валидацию с разбиением, размер которого будет адеквтаным, по вашему мнению; разбиение проводить по id-транзакции (TransactionID), обучать модель градиетного бустинга любой реализации с подбором числа деревьев по early_stopping критерию до достижения сходимости. Оценить качество модели на валидационной выборке, оценить расхождение по сравнению с качеством на обучающей выборке и валидационной выборке. Оценить качество на ЛБ, сравнить с качеством на обучении и валидации. Сделать выводы.\n"
   ]
  },
  {
   "cell_type": "code",
   "execution_count": 10,
   "id": "11907fbf",
   "metadata": {
    "ExecuteTime": {
     "end_time": "2021-10-12T17:05:46.925672Z",
     "start_time": "2021-10-12T17:05:46.371662Z"
    }
   },
   "outputs": [
    {
     "name": "stdout",
     "output_type": "stream",
     "text": [
      "X_train:  144000 rows, 530 cols\n",
      "X_valid:  36000 rows, 530 cols\n"
     ]
    }
   ],
   "source": [
    "X_train, X_valid, y_train, y_valid = train_test_split(dum_train.drop(columns='isFraud'),\n",
    "                                                      dum_train['isFraud'],\n",
    "                                                      shuffle=False,\n",
    "                                                      train_size=0.8\n",
    "                                                     )\n",
    "\n",
    "print(\"X_train:  {} rows, {} cols\".format(*X_train.shape))\n",
    "print(\"X_valid:  {} rows, {} cols\".format(*X_valid.shape))"
   ]
  },
  {
   "cell_type": "code",
   "execution_count": 11,
   "id": "56e3b183",
   "metadata": {
    "ExecuteTime": {
     "end_time": "2021-10-12T17:05:48.695658Z",
     "start_time": "2021-10-12T17:05:46.927661Z"
    }
   },
   "outputs": [],
   "source": [
    "train_xgb = xgb.DMatrix(data=X_train,\n",
    "                            label=y_train\n",
    "                            )\n",
    "\n",
    "valid_xgb = xgb.DMatrix(data=X_valid,\n",
    "                            label=y_valid,\n",
    "                            )\n",
    "\n",
    "test_xgb = xgb.DMatrix(data=dum_test.drop(columns='isFraud'),\n",
    "                            label=dum_test['isFraud'],\n",
    "                            )"
   ]
  },
  {
   "cell_type": "code",
   "execution_count": 12,
   "id": "6ab5f396",
   "metadata": {
    "ExecuteTime": {
     "end_time": "2021-10-12T17:05:48.711658Z",
     "start_time": "2021-10-12T17:05:48.697659Z"
    }
   },
   "outputs": [],
   "source": [
    "params = {\n",
    "    \"booster\": \"gbtree\",\n",
    "    \"objective\": \"binary:logistic\",\n",
    "    \"eval_metric\": \"auc\",\n",
    "    \"learning_rate\": 0.05,\n",
    "    \"reg_lambda\": 100,\n",
    "    \"max_depth\": 4,\n",
    "    \"gamma\": 10,\n",
    "    \"nthread\": -1,\n",
    "    \"seed\": 13\n",
    "}"
   ]
  },
  {
   "cell_type": "code",
   "execution_count": 13,
   "id": "0ca0bea8",
   "metadata": {
    "ExecuteTime": {
     "end_time": "2021-10-12T17:07:22.281680Z",
     "start_time": "2021-10-12T17:05:48.713660Z"
    }
   },
   "outputs": [
    {
     "name": "stdout",
     "output_type": "stream",
     "text": [
      "[0]\ttrain-auc:0.61546\tvalid-auc:0.62643\n",
      "[50]\ttrain-auc:0.85591\tvalid-auc:0.84138\n",
      "[100]\ttrain-auc:0.88780\tvalid-auc:0.86141\n",
      "[150]\ttrain-auc:0.90207\tvalid-auc:0.87917\n",
      "[200]\ttrain-auc:0.90865\tvalid-auc:0.88687\n",
      "[250]\ttrain-auc:0.91292\tvalid-auc:0.88940\n",
      "[300]\ttrain-auc:0.91581\tvalid-auc:0.89119\n",
      "[350]\ttrain-auc:0.91804\tvalid-auc:0.89186\n",
      "[377]\ttrain-auc:0.91807\tvalid-auc:0.89181\n"
     ]
    }
   ],
   "source": [
    "model_xgb_1 = xgb.train(\n",
    "    params=params,\n",
    "    dtrain=train_xgb,\n",
    "    num_boost_round=500,\n",
    "    early_stopping_rounds=50,\n",
    "    evals=[(train_xgb, \"train\"), (valid_xgb, \"valid\")],\n",
    "    verbose_eval=50,\n",
    "    maximize=True,\n",
    ")"
   ]
  },
  {
   "cell_type": "code",
   "execution_count": 14,
   "id": "d0d00af4",
   "metadata": {
    "ExecuteTime": {
     "end_time": "2021-10-12T17:07:22.679658Z",
     "start_time": "2021-10-12T17:07:22.282659Z"
    }
   },
   "outputs": [
    {
     "name": "stdout",
     "output_type": "stream",
     "text": [
      "train_auc: 0.9183\n",
      "valid_auc: 0.8918\n",
      "LB_auc: 0.8677\n"
     ]
    }
   ],
   "source": [
    "predictions_train = model_xgb_1.predict(train_xgb)\n",
    "predictions_valid = model_xgb_1.predict(valid_xgb)\n",
    "predictions_lb = model_xgb_1.predict(test_xgb)\n",
    "\n",
    "print(f'train_auc: {round(roc_auc_score(y_train, predictions_train), 4)}')\n",
    "print(f'valid_auc: {round(roc_auc_score(y_valid, predictions_valid), 4)}')\n",
    "print(f'LB_auc: {round(roc_auc_score(dum_test.isFraud, predictions_lb), 4)}')"
   ]
  },
  {
   "cell_type": "markdown",
   "id": "6e1e06fd",
   "metadata": {},
   "source": [
    "Mодель не переобучилась. Более низкие значения метрики на валидационной и  тестовой выборке, скорее всего связано с ее отличием от train (по времени). "
   ]
  },
  {
   "cell_type": "markdown",
   "id": "dab60b41",
   "metadata": {},
   "source": [
    "***************************"
   ]
  },
  {
   "cell_type": "markdown",
   "id": "a05ea6ba",
   "metadata": {},
   "source": [
    "**Задание 2:** сделать Hold-Out валидацию с разбиением на 3 выборки, разбиение проводить по id-транзакции (TransactionID), размер каждой выборки подобрать самостоятельно. Повторить процедуру из п.1. для каждой выборки."
   ]
  },
  {
   "cell_type": "code",
   "execution_count": 15,
   "id": "b2a1c3aa",
   "metadata": {
    "ExecuteTime": {
     "end_time": "2021-10-12T17:07:23.187681Z",
     "start_time": "2021-10-12T17:07:22.681662Z"
    }
   },
   "outputs": [
    {
     "name": "stdout",
     "output_type": "stream",
     "text": [
      "X_train:  125999 rows, 530 cols\n",
      "X_valid:  27000 rows, 530 cols\n",
      "X_test:  27001 rows, 530 cols\n"
     ]
    }
   ],
   "source": [
    "X_train, X_valid, y_train, y_valid = train_test_split(dum_train.drop(columns='isFraud'),\n",
    "                                                      dum_train['isFraud'],\n",
    "                                                      shuffle=False,\n",
    "                                                      train_size=0.7\n",
    "                                                     )\n",
    "\n",
    "X_valid, X_test, y_valid, y_test = train_test_split(X_valid,\n",
    "                                                      y_valid,\n",
    "                                                      shuffle=False,\n",
    "                                                      train_size=0.5\n",
    "                                                     )\n",
    "\n",
    "print(\"X_train:  {} rows, {} cols\".format(*X_train.shape))\n",
    "print(\"X_valid:  {} rows, {} cols\".format(*X_valid.shape))\n",
    "print(\"X_test:  {} rows, {} cols\".format(*X_test.shape))"
   ]
  },
  {
   "cell_type": "code",
   "execution_count": 16,
   "id": "95d4d243",
   "metadata": {
    "ExecuteTime": {
     "end_time": "2021-10-12T17:07:24.467658Z",
     "start_time": "2021-10-12T17:07:23.189662Z"
    }
   },
   "outputs": [],
   "source": [
    "train_xgb = xgb.DMatrix(data=X_train,\n",
    "                            label=y_train\n",
    "                            )\n",
    "\n",
    "valid_xgb = xgb.DMatrix(data=X_valid,\n",
    "                            label=y_valid,\n",
    "                            )\n",
    "\n",
    "test_xgb_1 = xgb.DMatrix(data=X_test,\n",
    "                            label=y_test,\n",
    "                            )"
   ]
  },
  {
   "cell_type": "code",
   "execution_count": 17,
   "id": "0d55bfcd",
   "metadata": {
    "ExecuteTime": {
     "end_time": "2021-10-12T17:08:46.487661Z",
     "start_time": "2021-10-12T17:07:24.469659Z"
    }
   },
   "outputs": [
    {
     "name": "stdout",
     "output_type": "stream",
     "text": [
      "[0]\ttrain-auc:0.60237\tvalid-auc:0.61787\n",
      "[50]\ttrain-auc:0.83932\tvalid-auc:0.84059\n",
      "[100]\ttrain-auc:0.88608\tvalid-auc:0.87176\n",
      "[150]\ttrain-auc:0.90052\tvalid-auc:0.88054\n",
      "[200]\ttrain-auc:0.90766\tvalid-auc:0.88561\n",
      "[250]\ttrain-auc:0.91168\tvalid-auc:0.88821\n",
      "[300]\ttrain-auc:0.91395\tvalid-auc:0.89008\n",
      "[350]\ttrain-auc:0.91499\tvalid-auc:0.89077\n",
      "[374]\ttrain-auc:0.91499\tvalid-auc:0.89077\n"
     ]
    }
   ],
   "source": [
    "model_xgb_2 = xgb.train(\n",
    "    params=params,\n",
    "    dtrain=train_xgb,\n",
    "    num_boost_round=500,\n",
    "    early_stopping_rounds=50,\n",
    "    evals=[(train_xgb, \"train\"), (valid_xgb, \"valid\")],\n",
    "    verbose_eval=50,\n",
    "    maximize=True,\n",
    ")"
   ]
  },
  {
   "cell_type": "code",
   "execution_count": 18,
   "id": "dbe4b883",
   "metadata": {
    "ExecuteTime": {
     "end_time": "2021-10-12T17:08:46.877661Z",
     "start_time": "2021-10-12T17:08:46.489661Z"
    },
    "scrolled": true
   },
   "outputs": [
    {
     "name": "stdout",
     "output_type": "stream",
     "text": [
      "train_auc: 0.9152\n",
      "valid_auc: 0.8908\n",
      "test_auc: 0.8746\n",
      "LB_auc: 0.87\n"
     ]
    }
   ],
   "source": [
    "predictions_train = model_xgb_2.predict(train_xgb)\n",
    "predictions_valid = model_xgb_2.predict(valid_xgb)\n",
    "predictions_test = model_xgb_2.predict(test_xgb_1)\n",
    "predictions_lb = model_xgb_2.predict(test_xgb)\n",
    "\n",
    "print(f'train_auc: {round(roc_auc_score(y_train, predictions_train), 4)}')\n",
    "print(f'valid_auc: {round(roc_auc_score(y_valid, predictions_valid), 4)}')\n",
    "print(f'test_auc: {round(roc_auc_score(y_test, predictions_test), 4)}')\n",
    "print(f'LB_auc: {round(roc_auc_score(dum_test.isFraud, predictions_lb), 4)}')"
   ]
  },
  {
   "cell_type": "markdown",
   "id": "15022808",
   "metadata": {},
   "source": [
    "Более четко прослеживается снижение метрик в зависимости от времени транзакций (но пока это предположежние) Чем дальше по времени выборка от обучающей тем ниже точность"
   ]
  },
  {
   "cell_type": "markdown",
   "id": "45a70f64",
   "metadata": {},
   "source": [
    "***********************"
   ]
  },
  {
   "cell_type": "markdown",
   "id": "b1356fb0",
   "metadata": {},
   "source": [
    "**Задание 3:** построить доверительный интервал на данных из п.2 на основе бутстреп выборок, оценить качество модели на ЛБ относительно полученного доверительного интервала. Сделать выводы."
   ]
  },
  {
   "cell_type": "code",
   "execution_count": 19,
   "id": "7a858ffe",
   "metadata": {
    "ExecuteTime": {
     "end_time": "2021-10-12T17:08:46.893679Z",
     "start_time": "2021-10-12T17:08:46.878662Z"
    }
   },
   "outputs": [],
   "source": [
    "def create_bootstrap_samples(data: np.array, n_samples: int = 1000) -> np.array:\n",
    "\n",
    "    bootstrap_idx = np.random.randint(\n",
    "        low=0, high=len(data), size=(n_samples, len(data))\n",
    "    )\n",
    "    return bootstrap_idx\n",
    "\n",
    "\n",
    "def create_bootstrap_metrics(y_true: np.array,\n",
    "                             y_pred: np.array,\n",
    "                             metric: callable,\n",
    "                             n_samlpes: int = 1000) -> List[float]:\n",
    "\n",
    "    scores = []\n",
    "\n",
    "    if isinstance(y_true, pd.Series):\n",
    "        y_true = y_true.values\n",
    "\n",
    "    bootstrap_idx = create_bootstrap_samples(y_true)\n",
    "    for idx in bootstrap_idx:\n",
    "        y_true_bootstrap = y_true[idx]\n",
    "        y_pred_bootstrap = y_pred[idx]\n",
    "\n",
    "        score = metric(y_true_bootstrap, y_pred_bootstrap)\n",
    "        scores.append(score)\n",
    "\n",
    "    return scores\n",
    "\n",
    "\n",
    "def calculate_confidence_interval(scores: list, conf_interval: float = 0.95) -> Tuple[float]:\n",
    "\n",
    "    left_bound = np.percentile(\n",
    "        scores, ((1 - conf_interval) / 2) * 100\n",
    "    )\n",
    "    right_bound = np.percentile(\n",
    "        scores, (conf_interval + ((1 - conf_interval) / 2)) * 100\n",
    "    )\n",
    "\n",
    "    return left_bound, right_bound"
   ]
  },
  {
   "cell_type": "code",
   "execution_count": 20,
   "id": "982e4c07",
   "metadata": {
    "ExecuteTime": {
     "end_time": "2021-10-12T17:08:53.775681Z",
     "start_time": "2021-10-12T17:08:46.895662Z"
    }
   },
   "outputs": [
    {
     "data": {
      "text/plain": [
       "(0.8617681567798728, 0.886603204561964)"
      ]
     },
     "execution_count": 20,
     "metadata": {},
     "output_type": "execute_result"
    }
   ],
   "source": [
    "# на второй отложенной выборке (test)\n",
    "np.random.seed(13)\n",
    "scores = create_bootstrap_metrics(y_test, predictions_test, roc_auc_score)\n",
    "calculate_confidence_interval(scores)"
   ]
  },
  {
   "cell_type": "code",
   "execution_count": 21,
   "id": "c1310d60",
   "metadata": {
    "ExecuteTime": {
     "end_time": "2021-10-12T17:09:00.492761Z",
     "start_time": "2021-10-12T17:08:53.777662Z"
    }
   },
   "outputs": [
    {
     "data": {
      "text/plain": [
       "(0.8783007651859719, 0.902352930773495)"
      ]
     },
     "execution_count": 21,
     "metadata": {},
     "output_type": "execute_result"
    }
   ],
   "source": [
    "# на первой отложенной выборке (valid)\n",
    "np.random.seed(13)\n",
    "scores = create_bootstrap_metrics(y_valid, predictions_valid, roc_auc_score)\n",
    "calculate_confidence_interval(scores)"
   ]
  },
  {
   "cell_type": "markdown",
   "id": "0c174bb3",
   "metadata": {},
   "source": [
    "Вывод: значение метрики на LB - попадает в интервал (test), но не попадает в интервал выборки valid (и не попал бы в доверительный интервал valid из 1 задания) - опять же вывод про разницу (?во времени) между train и test "
   ]
  },
  {
   "cell_type": "markdown",
   "id": "e4d5fe37",
   "metadata": {},
   "source": [
    "*************************"
   ]
  },
  {
   "cell_type": "markdown",
   "id": "b4a1a40d",
   "metadata": {},
   "source": [
    "**Задание 4:** выполнить Adversarial Validation, подобрать объекты из обучающей выборки, которые сильно похожи на объекты из assignment_2_test.csv, и использовать их в качестве валидационного набора. Оценить качество модели на ЛБ, сделать выводы о полученных результатах."
   ]
  },
  {
   "cell_type": "code",
   "execution_count": 22,
   "id": "0051342c",
   "metadata": {
    "ExecuteTime": {
     "end_time": "2021-10-12T17:09:00.895680Z",
     "start_time": "2021-10-12T17:09:00.495661Z"
    }
   },
   "outputs": [],
   "source": [
    "x_adv = pd.concat([\n",
    "    dum_train, dum_test], axis=0\n",
    ")\n",
    "y_adv = np.hstack((np.zeros(dum_train.shape[0]), np.ones(dum_test.shape[0])))\n",
    "assert x_adv.shape[0] == y_adv.shape[0]"
   ]
  },
  {
   "cell_type": "code",
   "execution_count": 23,
   "id": "4adc8f37",
   "metadata": {
    "ExecuteTime": {
     "end_time": "2021-10-12T17:09:16.895663Z",
     "start_time": "2021-10-12T17:09:00.897662Z"
    }
   },
   "outputs": [
    {
     "data": {
      "text/plain": [
       "XGBClassifier(base_score=0.5, booster='gbtree', colsample_bylevel=1,\n",
       "              colsample_bynode=1, colsample_bytree=1, eval_metric='auc',\n",
       "              gamma=0, gpu_id=-1, importance_type='gain',\n",
       "              interaction_constraints='', learning_rate=0.300000012,\n",
       "              max_delta_step=0, max_depth=6, min_child_weight=1, missing=nan,\n",
       "              monotone_constraints='()', n_estimators=100, n_jobs=16,\n",
       "              num_parallel_tree=1, random_state=0, reg_alpha=0, reg_lambda=1,\n",
       "              scale_pos_weight=1, subsample=1, tree_method='exact',\n",
       "              validate_parameters=1, verbosity=None)"
      ]
     },
     "execution_count": 23,
     "metadata": {},
     "output_type": "execute_result"
    }
   ],
   "source": [
    "model = xgb.XGBClassifier(n_estimators=100, eval_metric='auc')\n",
    "model.fit(x_adv[numerical_features], y_adv)"
   ]
  },
  {
   "cell_type": "code",
   "execution_count": 24,
   "id": "b0952250",
   "metadata": {
    "ExecuteTime": {
     "end_time": "2021-10-12T17:09:17.704660Z",
     "start_time": "2021-10-12T17:09:16.897661Z"
    }
   },
   "outputs": [
    {
     "name": "stdout",
     "output_type": "stream",
     "text": [
      "1.0\n"
     ]
    }
   ],
   "source": [
    "y_pred_adv = model.predict_proba(x_adv[numerical_features])\n",
    "score = roc_auc_score(y_adv, y_pred_adv[:, 1])\n",
    "print(round(score, 4))"
   ]
  },
  {
   "cell_type": "markdown",
   "id": "3f8b36b0",
   "metadata": {},
   "source": [
    "Алгоритм полностью отличает тестовый набор данных от тренйна. Не уж то по времени транзакции? Подобрать похожую на тест выборку нельзя"
   ]
  },
  {
   "cell_type": "markdown",
   "id": "be39b84b",
   "metadata": {},
   "source": [
    "******************************************"
   ]
  },
  {
   "cell_type": "markdown",
   "id": "f916b7f4",
   "metadata": {},
   "source": [
    "**Задание 5:** сделать KFold / StratifiedKFold валидацию (на ваше усмотрение), оценить получаемые качество и разброс по метрике качества. Сделать выводы об устойчивости кросс-валидации, сходимости оценки на кросс-валидации и отложенном наборе данных; Оценить качество на ЛБ, сделать выводы."
   ]
  },
  {
   "cell_type": "code",
   "execution_count": 25,
   "id": "953dac64",
   "metadata": {
    "ExecuteTime": {
     "end_time": "2021-10-12T17:09:17.719661Z",
     "start_time": "2021-10-12T17:09:17.706662Z"
    }
   },
   "outputs": [],
   "source": [
    "def make_cross_validation(X: pd.DataFrame,\n",
    "                          y: pd.Series,\n",
    "                          estimator: object,\n",
    "                          metric: callable,\n",
    "                          cv_strategy):\n",
    "  \n",
    "    estimators, fold_train_scores, fold_valid_scores = [], [], []\n",
    "    oof_predictions = np.zeros(X.shape[0])\n",
    "\n",
    "    for fold_number, (train_idx, valid_idx) in enumerate(cv_strategy.split(X, y)):\n",
    "        x_train, x_valid = X.loc[train_idx], X.loc[valid_idx]\n",
    "        y_train, y_valid = y.loc[train_idx], y.loc[valid_idx]\n",
    "\n",
    "        estimator.fit(x_train, y_train)\n",
    "        y_train_pred = estimator.predict_proba(x_train)\n",
    "        y_valid_pred = estimator.predict_proba(x_valid)\n",
    "\n",
    "        fold_train_scores.append(metric(y_train, y_train_pred[:,1]))\n",
    "        fold_valid_scores.append(metric(y_valid, y_valid_pred[:,1]))\n",
    "        oof_predictions[valid_idx] = y_valid_pred[:,1]\n",
    "\n",
    "        msg = (\n",
    "            f\"Fold: {fold_number+1}, train-observations = {len(train_idx)}, \"\n",
    "            f\"valid-observations = {len(valid_idx)}\\n\"\n",
    "            f\"train-score = {round(fold_train_scores[fold_number], 4)}, \"\n",
    "            f\"valid-score = {round(fold_valid_scores[fold_number], 4)}\" \n",
    "        )\n",
    "        print(msg)\n",
    "        print(\"=\"*69)\n",
    "        estimators.append(estimator)\n",
    "\n",
    "    oof_score = metric(y, oof_predictions)\n",
    "    print(f\"CV-results train: {round(np.mean(fold_train_scores), 4)} +/- {round(np.std(fold_train_scores), 3)}\")\n",
    "    print(f\"CV-results valid: {round(np.mean(fold_valid_scores), 4)} +/- {round(np.std(fold_valid_scores), 3)}\")\n",
    "    print(f\"OOF-score = {round(oof_score, 4)}\")\n",
    "\n",
    "    return estimators, oof_score, fold_train_scores, fold_valid_scores, oof_predictions"
   ]
  },
  {
   "cell_type": "code",
   "execution_count": 26,
   "id": "1e0e75dd",
   "metadata": {
    "ExecuteTime": {
     "end_time": "2021-10-12T17:11:16.169681Z",
     "start_time": "2021-10-12T17:09:17.721663Z"
    },
    "scrolled": true
   },
   "outputs": [
    {
     "name": "stdout",
     "output_type": "stream",
     "text": [
      "Fold: 1, train-observations = 144000, valid-observations = 36000\n",
      "train-score = 0.8899, valid-score = 0.8572\n",
      "=====================================================================\n",
      "Fold: 2, train-observations = 144000, valid-observations = 36000\n",
      "train-score = 0.8879, valid-score = 0.8786\n",
      "=====================================================================\n",
      "Fold: 3, train-observations = 144000, valid-observations = 36000\n",
      "train-score = 0.8842, valid-score = 0.8838\n",
      "=====================================================================\n",
      "Fold: 4, train-observations = 144000, valid-observations = 36000\n",
      "train-score = 0.8859, valid-score = 0.8737\n",
      "=====================================================================\n",
      "Fold: 5, train-observations = 144000, valid-observations = 36000\n",
      "train-score = 0.8877, valid-score = 0.8613\n",
      "=====================================================================\n",
      "CV-results train: 0.8871 +/- 0.002\n",
      "CV-results valid: 0.8709 +/- 0.01\n",
      "OOF-score = 0.8668\n"
     ]
    }
   ],
   "source": [
    "cv_strategy = KFold(n_splits=5)\n",
    "model = xgb.XGBClassifier(**params)\n",
    "estimators, oof_score, fold_train_scores, fold_valid_scores, oof_predictions = make_cross_validation(\n",
    "    dum_train.drop(columns='isFraud'), dum_train['isFraud'], model, metric=roc_auc_score, cv_strategy=cv_strategy\n",
    ")"
   ]
  },
  {
   "cell_type": "markdown",
   "id": "14109b17",
   "metadata": {
    "ExecuteTime": {
     "end_time": "2021-10-12T16:28:20.817447Z",
     "start_time": "2021-10-12T16:28:20.804436Z"
    }
   },
   "source": [
    "Кросс-валидация устойчивая, дисперсия низкая. Результаты ближе к LB,  но нельзя проследить зависимость от времени транкзакции"
   ]
  }
 ],
 "metadata": {
  "kernelspec": {
   "display_name": "Python 3",
   "language": "python",
   "name": "python3"
  },
  "language_info": {
   "codemirror_mode": {
    "name": "ipython",
    "version": 3
   },
   "file_extension": ".py",
   "mimetype": "text/x-python",
   "name": "python",
   "nbconvert_exporter": "python",
   "pygments_lexer": "ipython3",
   "version": "3.8.8"
  },
  "toc": {
   "base_numbering": 1,
   "nav_menu": {},
   "number_sections": true,
   "sideBar": true,
   "skip_h1_title": false,
   "title_cell": "Table of Contents",
   "title_sidebar": "Contents",
   "toc_cell": false,
   "toc_position": {},
   "toc_section_display": true,
   "toc_window_display": false
  }
 },
 "nbformat": 4,
 "nbformat_minor": 5
}
